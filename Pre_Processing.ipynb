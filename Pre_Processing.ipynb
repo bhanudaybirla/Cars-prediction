{
  "nbformat": 4,
  "nbformat_minor": 0,
  "metadata": {
    "colab": {
      "name": "Pre-Processing.ipynb",
      "version": "0.3.2",
      "provenance": [],
      "collapsed_sections": [],
      "toc_visible": true
    },
    "kernelspec": {
      "name": "python3",
      "display_name": "Python 3"
    },
    "accelerator": "GPU"
  },
  "cells": [
    {
      "cell_type": "markdown",
      "metadata": {
        "id": "QJnaMkl0k-1h",
        "colab_type": "text"
      },
      "source": [
        "# Cars' Year Make Model Prediction using CNN\n",
        "I have divided the complete modeling activity into 3 parts and created one notebook for each part.\n",
        "\n",
        "\n",
        "1.   **Pre-processing**\n",
        "2.   **Training (Transfer Learning) and Validation**\n",
        "3.   **Prediction**\n",
        "\n"
      ]
    },
    {
      "cell_type": "markdown",
      "metadata": {
        "id": "KAeCQ_AHbyFn",
        "colab_type": "text"
      },
      "source": [
        "# Step 1. Pre-processing of image dataset\n",
        "The steps involved in preparing image dataset are below:\n",
        "\n",
        "\n",
        "1.   Download the dataset and unzip it into google colab workspace\n",
        "2.   Create training, validation sets from initial training set and organize according to class label\n",
        "3. Put test dataset in test folder\n",
        "\n"
      ]
    },
    {
      "cell_type": "code",
      "metadata": {
        "id": "5pkhu7QkbnIq",
        "colab_type": "code",
        "colab": {
          "base_uri": "https://localhost:8080/",
          "height": 178
        },
        "outputId": "e67b9544-12f5-4d6a-ef98-a94a46dce5ec"
      },
      "source": [
        "!pip install console_progressbar"
      ],
      "execution_count": 1,
      "outputs": [
        {
          "output_type": "stream",
          "text": [
            "Collecting console_progressbar\n",
            "  Downloading https://files.pythonhosted.org/packages/70/dd/5103450098d904eb276c188fe500e1d757cb82ffdc02c02aa4de8faaccea/console_progressbar-1.1.1.tar.gz\n",
            "Building wheels for collected packages: console-progressbar\n",
            "  Building wheel for console-progressbar (setup.py) ... \u001b[?25l\u001b[?25hdone\n",
            "  Stored in directory: /root/.cache/pip/wheels/76/75/2c/d26751f4f3d2cd72d58d10313113691e87995630c89aab231b\n",
            "Successfully built console-progressbar\n",
            "Installing collected packages: console-progressbar\n",
            "Successfully installed console-progressbar-1.1.1\n"
          ],
          "name": "stdout"
        }
      ]
    },
    {
      "cell_type": "code",
      "metadata": {
        "id": "rS2bdVaLeyq7",
        "colab_type": "code",
        "colab": {}
      },
      "source": [
        "from google.colab import drive\n",
        "import tarfile\n",
        "import scipy.io\n",
        "import numpy as np\n",
        "import os\n",
        "import cv2 as cv\n",
        "import shutil\n",
        "import random\n",
        "from console_progressbar import ProgressBar"
      ],
      "execution_count": 0,
      "outputs": []
    },
    {
      "cell_type": "code",
      "metadata": {
        "id": "H4GVxdSt4UX9",
        "colab_type": "code",
        "colab": {}
      },
      "source": [
        "path='/content'\n",
        "#drive.mount(path+'/gdrive')"
      ],
      "execution_count": 0,
      "outputs": []
    },
    {
      "cell_type": "markdown",
      "metadata": {
        "id": "WU19DLmndYEQ",
        "colab_type": "text"
      },
      "source": [
        "Downloading and unzipping the dataset from the given website."
      ]
    },
    {
      "cell_type": "code",
      "metadata": {
        "id": "r2QBrOOkgP1A",
        "colab_type": "code",
        "outputId": "f4633639-e2a9-43e5-ab99-393d9eb23966",
        "colab": {
          "base_uri": "https://localhost:8080/",
          "height": 210
        }
      },
      "source": [
        "%%capture\n",
        "!wget http://imagenet.stanford.edu/internal/car196/cars_train.tgz\n",
        "!wget http://imagenet.stanford.edu/internal/car196/cars_test.tgz\n",
        "!wget https://ai.stanford.edu/~jkrause/cars/car_devkit.tgz"
      ],
      "execution_count": 4,
      "outputs": [
        {
          "output_type": "stream",
          "text": [
            "--2019-06-16 07:32:32--  http://imagenet.stanford.edu/internal/car196/cars_train.tgz\n",
            "Resolving imagenet.stanford.edu (imagenet.stanford.edu)... 171.64.68.16\n",
            "Connecting to imagenet.stanford.edu (imagenet.stanford.edu)|171.64.68.16|:80... connected.\n",
            "HTTP request sent, awaiting response... 200 OK\n",
            "Length: 979269282 (934M) [application/x-gzip]\n",
            "Saving to: ‘cars_train.tgz’\n",
            "\n",
            "cars_train.tgz      100%[===================>] 933.90M  8.87MB/s    in 60s     \n",
            "\n",
            "2019-06-16 07:33:57 (15.7 MB/s) - ‘cars_train.tgz’ saved [979269282/979269282]\n",
            "\n"
          ],
          "name": "stdout"
        }
      ]
    },
    {
      "cell_type": "code",
      "metadata": {
        "id": "fB8lpFyPM5zz",
        "colab_type": "code",
        "colab": {}
      },
      "source": [
        "%%capture\n",
        "!tar zxvf cars_train.tgz\n",
        "!tar zxvf cars_test.tgz\n",
        "!tar zxvf car_devkit.tgz\n",
        "!tar zxvf car_devkit.tgz;\n",
        "!rm -r cars_train.tgz\n",
        "!rm -r cars_test.tgz\n",
        "!rm -r car_devkit.tgz"
      ],
      "execution_count": 0,
      "outputs": []
    },
    {
      "cell_type": "markdown",
      "metadata": {
        "id": "q_3eyPf9gbvb",
        "colab_type": "text"
      },
      "source": [
        "Now, created some functions to get bounding boxes of cars and extracted that box with a margin of 16 pixels out of full images. The training datset is distributed into two sets i.e. train and valid sets with 80:20 ratio. The folder structure for train and valid will look like:\n",
        "\n",
        "```\n",
        "train\n",
        "        /Class 1\n",
        "                /00003.jpg\n",
        "                /00234.jpg\n",
        "                .\n",
        "                .\n",
        "                .\n",
        "        /Class 2\n",
        "                /00043.jpg\n",
        "                /00004.jpg\n",
        "                .\n",
        "                .\n",
        "                .\n",
        "       /Class 196\n",
        "                /03003.jpg\n",
        "                /00034.jpg\n",
        "                .\n",
        "                .\n",
        "                .\n",
        "valid\n",
        "        /Class 1\n",
        "                /00003.jpg\n",
        "                /00234.jpg\n",
        "                .\n",
        "                .\n",
        "                .\n",
        "        /Class 2\n",
        "                /00043.jpg\n",
        "                /00004.jpg\n",
        "                .\n",
        "                .\n",
        "                .\n",
        "       /Class 196\n",
        "                /03003.jpg\n",
        "                /00034.jpg\n",
        "                .\n",
        "                .\n",
        "                .\n",
        "test\n",
        "          /00012.jpg\n",
        "          /00239.jpg\n",
        "          .\n",
        "          .\n",
        "          .\n",
        "```\n",
        "\n",
        "\n",
        "                "
      ]
    },
    {
      "cell_type": "code",
      "metadata": {
        "id": "hDRl6kTGdUag",
        "colab_type": "code",
        "colab": {}
      },
      "source": [
        "def ensure_folder(folder):\n",
        "    if not os.path.exists(folder):\n",
        "        os.makedirs(folder)\n",
        "\n",
        "\n",
        "def save_train_data(fnames, labels, bboxes):\n",
        "    src_folder = path+'/cars_train'\n",
        "    num_samples = len(fnames)\n",
        "\n",
        "    train_split = 0.8\n",
        "    num_train = int(round(num_samples * train_split))\n",
        "    train_indexes = random.sample(range(num_samples), num_train)\n",
        "\n",
        "    pb = ProgressBar(total=100, prefix='Save train data', suffix='', decimals=3, length=50, fill='=')\n",
        "\n",
        "    for i in range(num_samples):\n",
        "        fname = fnames[i]\n",
        "        label = labels[i]\n",
        "        (x1, y1, x2, y2) = bboxes[i]\n",
        "\n",
        "        src_path = os.path.join(src_folder, fname)\n",
        "        src_image = cv.imread(src_path)\n",
        "        height, width = src_image.shape[:2]\n",
        "        # margins of 16 pixels\n",
        "        margin = 16\n",
        "        x1 = max(0, x1 - margin)\n",
        "        y1 = max(0, y1 - margin)\n",
        "        x2 = min(x2 + margin, width)\n",
        "        y2 = min(y2 + margin, height)\n",
        "        # print(\"{} -> {}\".format(fname, label))\n",
        "        pb.print_progress_bar((i + 1) * 100 / num_samples)\n",
        "\n",
        "        if i in train_indexes:\n",
        "            dst_folder = path+'/train'\n",
        "        else:\n",
        "            dst_folder = path+'/valid'\n",
        "\n",
        "        dst_path = os.path.join(dst_folder, label)\n",
        "        if not os.path.exists(dst_path):\n",
        "            os.makedirs(dst_path)\n",
        "        dst_path = os.path.join(dst_path, fname)\n",
        "\n",
        "        crop_image = src_image[y1:y2, x1:x2]\n",
        "        dst_img = cv.resize(src=crop_image, dsize=(img_height, img_width))\n",
        "        cv.imwrite(dst_path, dst_img)\n",
        "\n",
        "\n",
        "def save_test_data(fnames, bboxes):\n",
        "    src_folder = path+'/cars_test'\n",
        "    dst_folder = path+'/test'\n",
        "    num_samples = len(fnames)\n",
        "\n",
        "    pb = ProgressBar(total=100, prefix='Save test data', suffix='', decimals=3, length=50, fill='=')\n",
        "\n",
        "    for i in range(num_samples):\n",
        "        fname = fnames[i]\n",
        "        (x1, y1, x2, y2) = bboxes[i]\n",
        "        src_path = os.path.join(src_folder, fname)\n",
        "        src_image = cv.imread(src_path)\n",
        "        height, width = src_image.shape[:2]\n",
        "        # margins of 16 pixels\n",
        "        margin = 16\n",
        "        x1 = max(0, x1 - margin)\n",
        "        y1 = max(0, y1 - margin)\n",
        "        x2 = min(x2 + margin, width)\n",
        "        y2 = min(y2 + margin, height)\n",
        "        # print(fname)\n",
        "        pb.print_progress_bar((i + 1) * 100 / num_samples)\n",
        "\n",
        "        dst_path = os.path.join(dst_folder, fname)\n",
        "        crop_image = src_image[y1:y2, x1:x2]\n",
        "        dst_img = cv.resize(src=crop_image, dsize=(img_height, img_width))\n",
        "        cv.imwrite(dst_path, dst_img)\n",
        "\n",
        "\n",
        "def process_train_data():\n",
        "    print(\"Processing train data...\")\n",
        "    cars_annos = scipy.io.loadmat(path+'/devkit/cars_train_annos')\n",
        "    annotations = cars_annos['annotations']\n",
        "    annotations = np.transpose(annotations)\n",
        "\n",
        "    fnames = []\n",
        "    class_ids = []\n",
        "    bboxes = []\n",
        "    labels = []\n",
        "\n",
        "    for annotation in annotations:\n",
        "        bbox_x1 = annotation[0][0][0][0]\n",
        "        bbox_y1 = annotation[0][1][0][0]\n",
        "        bbox_x2 = annotation[0][2][0][0]\n",
        "        bbox_y2 = annotation[0][3][0][0]\n",
        "        class_id = annotation[0][4][0][0]\n",
        "        labels.append('%04d' % (class_id,))\n",
        "        fname = annotation[0][5][0]\n",
        "        bboxes.append((bbox_x1, bbox_y1, bbox_x2, bbox_y2))\n",
        "        class_ids.append(class_id)\n",
        "        fnames.append(fname)\n",
        "\n",
        "    labels_count = np.unique(class_ids).shape[0]\n",
        "    print(np.unique(class_ids))\n",
        "    print('The number of different cars is %d' % labels_count)\n",
        "\n",
        "    save_train_data(fnames, labels, bboxes)\n",
        "\n",
        "\n",
        "def process_test_data():\n",
        "    print(\"Processing test data...\")\n",
        "    cars_annos = scipy.io.loadmat(path+'/devkit/cars_test_annos')\n",
        "    annotations = cars_annos['annotations']\n",
        "    annotations = np.transpose(annotations)\n",
        "\n",
        "    fnames = []\n",
        "    bboxes = []\n",
        "\n",
        "    for annotation in annotations:\n",
        "        bbox_x1 = annotation[0][0][0][0]\n",
        "        bbox_y1 = annotation[0][1][0][0]\n",
        "        bbox_x2 = annotation[0][2][0][0]\n",
        "        bbox_y2 = annotation[0][3][0][0]\n",
        "        fname = annotation[0][4][0]\n",
        "        bboxes.append((bbox_x1, bbox_y1, bbox_x2, bbox_y2))\n",
        "        fnames.append(fname)\n",
        "\n",
        "    save_test_data(fnames, bboxes)\n"
      ],
      "execution_count": 0,
      "outputs": []
    },
    {
      "cell_type": "code",
      "metadata": {
        "id": "0Zlc7wM1gbGC",
        "colab_type": "code",
        "colab": {
          "base_uri": "https://localhost:8080/",
          "height": 334
        },
        "outputId": "9cbbe59a-972f-4abe-a4d3-1cbcb7541e5a"
      },
      "source": [
        "img_width, img_height = 224, 224\n",
        "cars_meta = scipy.io.loadmat(path+'/devkit/cars_meta')\n",
        "class_names = cars_meta['class_names']  # shape=(1, 196)\n",
        "class_names = np.transpose(class_names)\n",
        "print('class_names.shape: ' + str(class_names.shape))\n",
        "print('Sample class_name: [{}]'.format(class_names[8][0][0]))\n",
        "\n",
        "ensure_folder(path+'/train')\n",
        "ensure_folder(path+'/valid')\n",
        "ensure_folder(path+'/test')\n",
        "\n",
        "process_train_data()\n",
        "process_test_data()\n",
        "\n",
        "# clean up\n",
        "shutil.rmtree(path+'/cars_train')\n",
        "shutil.rmtree(path+'/cars_test')\n",
        "# shutil.rmtree('devkit')"
      ],
      "execution_count": 18,
      "outputs": [
        {
          "output_type": "stream",
          "text": [
            "class_names.shape: (196, 1)\n",
            "Sample class_name: [Aston Martin V8 Vantage Coupe 2012]\n",
            "Processing train data...\n",
            "[  1   2   3   4   5   6   7   8   9  10  11  12  13  14  15  16  17  18\n",
            "  19  20  21  22  23  24  25  26  27  28  29  30  31  32  33  34  35  36\n",
            "  37  38  39  40  41  42  43  44  45  46  47  48  49  50  51  52  53  54\n",
            "  55  56  57  58  59  60  61  62  63  64  65  66  67  68  69  70  71  72\n",
            "  73  74  75  76  77  78  79  80  81  82  83  84  85  86  87  88  89  90\n",
            "  91  92  93  94  95  96  97  98  99 100 101 102 103 104 105 106 107 108\n",
            " 109 110 111 112 113 114 115 116 117 118 119 120 121 122 123 124 125 126\n",
            " 127 128 129 130 131 132 133 134 135 136 137 138 139 140 141 142 143 144\n",
            " 145 146 147 148 149 150 151 152 153 154 155 156 157 158 159 160 161 162\n",
            " 163 164 165 166 167 168 169 170 171 172 173 174 175 176 177 178 179 180\n",
            " 181 182 183 184 185 186 187 188 189 190 191 192 193 194 195 196]\n",
            "The number of different cars is 196\n",
            "Save train data |==================================================| 100.000% \n",
            "Processing test data...\n",
            "Save test data |==================================================| 100.000% \n"
          ],
          "name": "stdout"
        }
      ]
    }
  ]
}