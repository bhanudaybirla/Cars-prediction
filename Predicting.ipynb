{
  "nbformat": 4,
  "nbformat_minor": 0,
  "metadata": {
    "colab": {
      "name": "Predicting.ipynb",
      "version": "0.3.2",
      "provenance": [],
      "collapsed_sections": [],
      "toc_visible": true
    },
    "kernelspec": {
      "name": "python3",
      "display_name": "Python 3"
    },
    "accelerator": "GPU"
  },
  "cells": [
    {
      "cell_type": "markdown",
      "metadata": {
        "id": "kxjqVhBLsqWc",
        "colab_type": "text"
      },
      "source": [
        "# Step 3. Predicting\n",
        "For Predicting year,make,model of new cars' images, put images into **cars_predict** folder and boundation annotations in **devkit** folder with name *cars_predict.mat*.  \n",
        "**If cropping of images(to be predicted) required depending on bounding boxes,give True in variable IsCropRequired else give False**"
      ]
    },
    {
      "cell_type": "code",
      "metadata": {
        "id": "8NJbn1PXwr0d",
        "colab_type": "code",
        "colab": {}
      },
      "source": [
        "IsCropRequired = False"
      ],
      "execution_count": 0,
      "outputs": []
    },
    {
      "cell_type": "code",
      "metadata": {
        "id": "1BmOcMs18eat",
        "colab_type": "code",
        "colab": {
          "base_uri": "https://localhost:8080/",
          "height": 178
        },
        "outputId": "1eee282c-4a65-49c3-bc16-e7a9de4dc009"
      },
      "source": [
        "!pip install console_progressbar"
      ],
      "execution_count": 5,
      "outputs": [
        {
          "output_type": "stream",
          "text": [
            "Collecting console_progressbar\n",
            "  Downloading https://files.pythonhosted.org/packages/70/dd/5103450098d904eb276c188fe500e1d757cb82ffdc02c02aa4de8faaccea/console_progressbar-1.1.1.tar.gz\n",
            "Building wheels for collected packages: console-progressbar\n",
            "  Building wheel for console-progressbar (setup.py) ... \u001b[?25l\u001b[?25hdone\n",
            "  Stored in directory: /root/.cache/pip/wheels/76/75/2c/d26751f4f3d2cd72d58d10313113691e87995630c89aab231b\n",
            "Successfully built console-progressbar\n",
            "Installing collected packages: console-progressbar\n",
            "Successfully installed console-progressbar-1.1.1\n"
          ],
          "name": "stdout"
        }
      ]
    },
    {
      "cell_type": "code",
      "metadata": {
        "id": "1BYBnv1xsDgp",
        "colab_type": "code",
        "colab": {}
      },
      "source": [
        "%reload_ext autoreload\n",
        "%autoreload 2\n",
        "%matplotlib inline\n",
        "from fastai.vision import *\n",
        "from fastai.metrics import error_rate\n",
        "from fastai import *\n",
        "import cv2 as cv\n",
        "import numpy as np\n",
        "import pandas as pd\n",
        "import scipy.io as sio\n",
        "import scipy.io\n",
        "import os\n",
        "import shutil\n",
        "from console_progressbar import ProgressBar"
      ],
      "execution_count": 0,
      "outputs": []
    },
    {
      "cell_type": "code",
      "metadata": {
        "id": "azqyqIMZ7FSV",
        "colab_type": "code",
        "colab": {}
      },
      "source": [
        "path='/content'"
      ],
      "execution_count": 0,
      "outputs": []
    },
    {
      "cell_type": "code",
      "metadata": {
        "id": "7KHDgm8SsL63",
        "colab_type": "code",
        "colab": {}
      },
      "source": [
        "from google.colab import drive\n",
        "drive.mount(path+'/gdrive')"
      ],
      "execution_count": 0,
      "outputs": []
    },
    {
      "cell_type": "code",
      "metadata": {
        "id": "iQBRC7JYvHeu",
        "colab_type": "code",
        "colab": {}
      },
      "source": [
        "def ensure_folder(folder):\n",
        "    if not os.path.exists(folder):\n",
        "        os.makedirs(folder)\n",
        "\n",
        "def save_test_data(fnames, bboxes):\n",
        "    src_folder = path+'/cars_predict'\n",
        "    dst_folder = path+'/predict'\n",
        "    num_samples = len(fnames)\n",
        "\n",
        "    pb = ProgressBar(total=100, prefix='Save predict data', suffix='', decimals=3, length=50, fill='=')\n",
        "\n",
        "    for i in range(num_samples):\n",
        "        fname = fnames[i]\n",
        "        (x1, y1, x2, y2) = bboxes[i]\n",
        "        src_path = os.path.join(src_folder, fname)\n",
        "        src_image = cv.imread(src_path)\n",
        "        height, width = src_image.shape[:2]\n",
        "        # margins of 16 pixels\n",
        "        margin = 16\n",
        "        x1 = max(0, x1 - margin)\n",
        "        y1 = max(0, y1 - margin)\n",
        "        x2 = min(x2 + margin, width)\n",
        "        y2 = min(y2 + margin, height)\n",
        "        # print(fname)\n",
        "        pb.print_progress_bar((i + 1) * 100 / num_samples)\n",
        "\n",
        "        dst_path = os.path.join(dst_folder, fname)\n",
        "        crop_image = src_image[y1:y2, x1:x2]\n",
        "        dst_img = cv.resize(src=crop_image, dsize=(img_height, img_width))\n",
        "        cv.imwrite(dst_path, dst_img)\n",
        "\n",
        "def process_predict_data():\n",
        "    print(\"Processing predict data...\")\n",
        "    cars_annos = scipy.io.loadmat(path+'/devkit/cars_predict')\n",
        "    annotations = cars_annos['annotations']\n",
        "    annotations = np.transpose(annotations)\n",
        "\n",
        "    fnames = []\n",
        "    bboxes = []\n",
        "\n",
        "    for annotation in annotations:\n",
        "        bbox_x1 = annotation[0][0][0][0]\n",
        "        bbox_y1 = annotation[0][1][0][0]\n",
        "        bbox_x2 = annotation[0][2][0][0]\n",
        "        bbox_y2 = annotation[0][3][0][0]\n",
        "        fname = annotation[0][4][0]\n",
        "        bboxes.append((bbox_x1, bbox_y1, bbox_x2, bbox_y2))\n",
        "        fnames.append(fname)\n",
        "\n",
        "    save_test_data(fnames, bboxes)\n"
      ],
      "execution_count": 0,
      "outputs": []
    },
    {
      "cell_type": "markdown",
      "metadata": {
        "id": "gt6Dd70x1H3u",
        "colab_type": "text"
      },
      "source": [
        "Pre-processing the prediction dataset so that existing model can be used for prediction."
      ]
    },
    {
      "cell_type": "code",
      "metadata": {
        "id": "eMCazs1eviGg",
        "colab_type": "code",
        "colab": {}
      },
      "source": [
        "if IsCropRequired:\n",
        "    img_width, img_height = 224, 224\n",
        "    ensure_folder(path+'/predict')\n",
        "\n",
        "    process_predict_data()\n",
        "    # clean up\n",
        "    shutil.rmtree(path+'/cars_predict')\n",
        "    # shutil.rmtree('devkit')\n",
        "else:\n",
        "  os.rename(path+'/cars_predict',path+'/predict')"
      ],
      "execution_count": 0,
      "outputs": []
    },
    {
      "cell_type": "code",
      "metadata": {
        "id": "b7AOVPxn8QG4",
        "colab_type": "code",
        "colab": {}
      },
      "source": [
        "cars_meta = sio.loadmat(path+'/devkit/cars_meta')\n",
        "class_names = list(cars_meta['class_names'][0])  # shape=(1, 196)\n",
        "class_names = [i[0] for i in class_names]"
      ],
      "execution_count": 0,
      "outputs": []
    },
    {
      "cell_type": "markdown",
      "metadata": {
        "id": "u-82o3fo1UuJ",
        "colab_type": "text"
      },
      "source": [
        "Loading trained model(ResNet152) which was trained in Step 2(Training and validation notebook)"
      ]
    },
    {
      "cell_type": "code",
      "metadata": {
        "id": "dxmUcGlOsR9v",
        "colab_type": "code",
        "colab": {}
      },
      "source": [
        "data2 = ImageDataBunch.single_from_classes(path+'/predict/',class_names,ds_tfms=get_transforms(),size=224).normalize(imagenet_stats)\n",
        "mdl = cnn_learner(data2, models.resnet152)\n",
        "mdl.load(path+'/models/resnet152')"
      ],
      "execution_count": 0,
      "outputs": []
    },
    {
      "cell_type": "code",
      "metadata": {
        "id": "4L-8T8qDsUeQ",
        "colab_type": "code",
        "colab": {}
      },
      "source": [
        "path1=path+'/predict/'\n",
        "imgs=[f for f in os.listdir(path)if os.path.isfile(os.path.join(path, f))]\n",
        "result = pd.DataFrame()\n",
        "for i in imgs:\n",
        "    img=open_image(path+'/predict/'+i)\n",
        "    car,idx,output = mdl.predict(img)\n",
        "    prob=max(np.array(output))\n",
        "    result = result.append({'Image' : i , 'PredictedClass' : car, 'Probability':prob, 'ClassIndex':idx} , ignore_index=True)\n",
        "result.to_csv(path+'/PredictedClasses.csv')"
      ],
      "execution_count": 0,
      "outputs": []
    }
  ]
}